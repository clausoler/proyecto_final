{
 "cells": [
  {
   "cell_type": "code",
   "execution_count": 1,
   "id": "f1ae7d23",
   "metadata": {},
   "outputs": [],
   "source": [
    "import requests\n",
    "import pandas as pd\n",
    "import time\n",
    "import os\n",
    "from datetime import datetime, UTC\n",
    "from itertools import product # Para poder realizar todas las combinaciones posibles de los términos\n",
    "from dotenv import load_dotenv"
   ]
  },
  {
   "cell_type": "code",
   "execution_count": 2,
   "id": "1b6af206",
   "metadata": {},
   "outputs": [],
   "source": [
    "# Cargar variables de entorno\n",
    "load_dotenv()\n",
    "API_URL = os.getenv(\"ITUNES_API_URL\")"
   ]
  },
  {
   "cell_type": "code",
   "execution_count": 3,
   "id": "8607578f",
   "metadata": {},
   "outputs": [],
   "source": [
    "# Configuración\n",
    "CARPETA_DATOS = \"../data/data_raw\" # Carpeta donde se guardarán los datos\n",
    "LOG_TERMS = \"terminos_usados.txt\" # Archivo donde se guardarán los términos usados\n",
    "os.makedirs(CARPETA_DATOS, exist_ok=True) # Crear la carpeta si no existe"
   ]
  },
  {
   "cell_type": "code",
   "execution_count": 4,
   "id": "a9c29a69",
   "metadata": {},
   "outputs": [],
   "source": [
    "# Generar combinaciones 'aa' a 'zz'\n",
    "TERMINOS = [''.join(p) for p in product('abcdefghijklmnopqrstuvwxyz', repeat=2)]\n",
    "TERMINOS_POR_DIA = 97  # 97 términos × 200 filas ≈ 19.400 canciones/día × 7 días = 135.800 filas totales"
   ]
  },
  {
   "cell_type": "code",
   "execution_count": 5,
   "id": "23ae733e",
   "metadata": {},
   "outputs": [],
   "source": [
    "# Cargar términos ya usados\n",
    "def cargar_terminos_usados():\n",
    "    if os.path.exists(LOG_TERMS):\n",
    "        with open(LOG_TERMS, \"r\") as f:\n",
    "            return set(line.strip() for line in f.readlines())\n",
    "    return set()"
   ]
  },
  {
   "cell_type": "code",
   "execution_count": 6,
   "id": "130165d0",
   "metadata": {},
   "outputs": [],
   "source": [
    "# Guardar término como usado\n",
    "def guardar_termino_usado(term):\n",
    "    with open(LOG_TERMS, \"a\") as f:\n",
    "        f.write(f\"{term}\\n\")"
   ]
  },
  {
   "cell_type": "code",
   "execution_count": 7,
   "id": "6157419a",
   "metadata": {},
   "outputs": [],
   "source": [
    "# Buscar en la API de iTunes usando la URL desde .env\n",
    "def buscar_itunes(term, limit=200):\n",
    "    params = {\n",
    "        \"term\": term,\n",
    "        \"limit\": limit,\n",
    "        \"country\": \"US\",\n",
    "        \"media\": \"music\"\n",
    "    }\n",
    "\n",
    "    try:\n",
    "        response = requests.get(API_URL, params=params)\n",
    "        if response.status_code == 200:\n",
    "            results = response.json().get(\"results\", [])\n",
    "            df = pd.json_normalize(results)\n",
    "            if not df.empty:\n",
    "                df[\"checked_at\"] = datetime.now(UTC).isoformat()\n",
    "                return df\n",
    "    except Exception as e:\n",
    "        print(f\"❌ Error con '{term}': {e}\")\n",
    "    return pd.DataFrame()"
   ]
  },
  {
   "cell_type": "code",
   "execution_count": 8,
   "id": "2830e02a",
   "metadata": {},
   "outputs": [
    {
     "name": "stdout",
     "output_type": "stream",
     "text": [
      "🔍 Buscando: 'de'\n",
      "⚠️ Sin resultados para 'de'\n",
      "🔍 Buscando: 'do'\n",
      "⚠️ Sin resultados para 'do'\n",
      "🔍 Buscando: 'du'\n",
      "⚠️ Sin resultados para 'du'\n",
      "🔍 Buscando: 'ep'\n",
      "⚠️ Sin resultados para 'ep'\n",
      "🔍 Buscando: 'ii'\n",
      "⚠️ Sin resultados para 'ii'\n",
      "🔍 Buscando: 'in'\n",
      "⚠️ Sin resultados para 'in'\n",
      "🔍 Buscando: 'la'\n",
      "⚠️ Sin resultados para 'la'\n",
      "🔍 Buscando: 'me'\n",
      "⚠️ Sin resultados para 'me'\n",
      "🔍 Buscando: 'no'\n",
      "⚠️ Sin resultados para 'no'\n",
      "🔍 Buscando: 'te'\n",
      "⚠️ Sin resultados para 'te'\n",
      "🔍 Buscando: 'to'\n",
      "⚠️ Sin resultados para 'to'\n",
      "🔍 Buscando: 'zk'\n",
      "✅ 162 resultados para 'zk'\n",
      "🔍 Buscando: 'zl'\n",
      "✅ 123 resultados para 'zl'\n",
      "🔍 Buscando: 'zm'\n",
      "✅ 201 resultados para 'zm'\n",
      "🔍 Buscando: 'zn'\n",
      "✅ 142 resultados para 'zn'\n",
      "🔍 Buscando: 'zo'\n",
      "⚠️ Sin resultados para 'zo'\n",
      "🔍 Buscando: 'zp'\n",
      "✅ 180 resultados para 'zp'\n",
      "🔍 Buscando: 'zq'\n",
      "✅ 186 resultados para 'zq'\n",
      "🔍 Buscando: 'zr'\n",
      "✅ 192 resultados para 'zr'\n",
      "🔍 Buscando: 'zs'\n",
      "✅ 171 resultados para 'zs'\n",
      "🔍 Buscando: 'zt'\n",
      "✅ 192 resultados para 'zt'\n",
      "🔍 Buscando: 'zu'\n",
      "✅ 201 resultados para 'zu'\n",
      "🔍 Buscando: 'zv'\n",
      "✅ 134 resultados para 'zv'\n",
      "🔍 Buscando: 'zw'\n",
      "✅ 194 resultados para 'zw'\n",
      "🔍 Buscando: 'zx'\n",
      "✅ 170 resultados para 'zx'\n",
      "🔍 Buscando: 'zy'\n",
      "✅ 193 resultados para 'zy'\n",
      "🔍 Buscando: 'zz'\n",
      "✅ 79 resultados para 'zz'\n",
      "📦 Guardados 2520 registros en '../data/data_raw/itunes_2025-04-27.csv'\n"
     ]
    }
   ],
   "source": [
    "# Ejecutar scraping para múltiples términos por día\n",
    "def ejecutar_scrape_diario():\n",
    "    usados = cargar_terminos_usados()\n",
    "    pendientes = [t for t in TERMINOS if t not in usados][:TERMINOS_POR_DIA]\n",
    "\n",
    "    if not pendientes:\n",
    "        print(\"✅ Todos los términos han sido usados.\")\n",
    "        return\n",
    "\n",
    "    dfs = []\n",
    "\n",
    "    for termino in pendientes:\n",
    "        print(f\"🔍 Buscando: '{termino}'\")\n",
    "        df = buscar_itunes(termino)\n",
    "        if not df.empty:\n",
    "            dfs.append(df)\n",
    "            guardar_termino_usado(termino)\n",
    "            print(f\"✅ {len(df)} resultados para '{termino}'\")\n",
    "        else:\n",
    "            print(f\"⚠️ Sin resultados para '{termino}'\")\n",
    "        time.sleep(1)\n",
    "\n",
    "    if dfs:\n",
    "        df_total = pd.concat(dfs, ignore_index=True)\n",
    "        hoy = datetime.now().strftime(\"%Y-%m-%d\")\n",
    "        archivo_salida = f\"{\"../data/data_raw\"}/itunes_{hoy}.csv\"\n",
    "        df_total.to_csv(archivo_salida, index=False)\n",
    "        print(f\"📦 Guardados {len(df_total)} registros en '{archivo_salida}'\")\n",
    "\n",
    "if __name__ == \"__main__\":\n",
    "    ejecutar_scrape_diario()"
   ]
  }
 ],
 "metadata": {
  "kernelspec": {
   "display_name": "venv",
   "language": "python",
   "name": "python3"
  },
  "language_info": {
   "codemirror_mode": {
    "name": "ipython",
    "version": 3
   },
   "file_extension": ".py",
   "mimetype": "text/x-python",
   "name": "python",
   "nbconvert_exporter": "python",
   "pygments_lexer": "ipython3",
   "version": "3.12.4"
  }
 },
 "nbformat": 4,
 "nbformat_minor": 5
}
