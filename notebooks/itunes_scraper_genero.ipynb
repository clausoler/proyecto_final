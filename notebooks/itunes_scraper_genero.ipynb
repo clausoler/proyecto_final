{
  "cells": [
    {
      "cell_type": "code",
      "execution_count": 1,
      "metadata": {},
      "outputs": [],
      "source": [
        "import requests\n",
        "import pandas as pd\n",
        "import os, time\n",
        "from datetime import datetime, UTC\n",
        "from dotenv import load_dotenv\n",
        "\n",
        "# Cargar variables de entorno\n",
        "load_dotenv()\n",
        "API_URL = os.getenv(\"ITUNES_API_URL\")"
      ]
    },
    {
      "cell_type": "code",
      "execution_count": 2,
      "metadata": {},
      "outputs": [],
      "source": [
        "# Configuración inicial\n",
        "CARPETA_DATOS = \"../data/data_raw\"\n",
        "LOG_GENEROS = \"generos_usados.txt\"\n",
        "os.makedirs(CARPETA_DATOS, exist_ok=True)\n",
        "\n",
        "GENERO_TERMS = [\n",
        "    \"pop\", \"rock\", \"jazz\", \"classical\", \"rap\", \"hip hop\", \"reggaeton\",\n",
        "    \"country\", \"electronic\", \"blues\", \"metal\", \"funk\", \"techno\", \"soul\",\n",
        "    \"trap\", \"r&b\", \"dance\", \"alternative\", \"indie\", \"disco\", \"latin\", \"k-pop\",\n",
        "    \"opera\", \"punk\", \"grunge\", \"dubstep\", \"house\", \"electro\", \"ambient\",\n",
        "    \"gospel\", \"ska\", \"folk\", \"lofi\", \"world\", \"instrumental\", \"edm\",\n",
        "    \"acoustic\", \"garage\", \"drill\", \"new age\", \"bossa nova\", \"samba\", \"cumbia\",\n",
        "    \"flamenco\", \"bolero\", \"tango\", \"reggae\", \"afrobeats\", \"afropop\",\n",
        "    \"soundtrack\", \"cinematic\", \"anime\", \"children\", \"holiday\", \"christmas\",\n",
        "    \"karaoke\", \"spoken word\"\n",
        "]\n",
        "GENEROS_POR_DIA = 5"
      ]
    },
    {
      "cell_type": "code",
      "execution_count": 3,
      "metadata": {},
      "outputs": [],
      "source": [
        "# Funciones auxiliares\n",
        "def cargar_generos_usados():\n",
        "    if os.path.exists(LOG_GENEROS):\n",
        "        with open(LOG_GENEROS, \"r\") as f:\n",
        "            return set(line.strip() for line in f.readlines())\n",
        "    return set()\n",
        "\n",
        "def guardar_genero_usado(genre):\n",
        "    with open(LOG_GENEROS, \"a\") as f:\n",
        "        f.write(f\"{genre}\\n\")\n",
        "\n",
        "def buscar_itunes(term, limit=200):\n",
        "    params = {\n",
        "        \"term\": term,\n",
        "        \"limit\": limit,\n",
        "        \"country\": \"US\",\n",
        "        \"media\": \"music\"\n",
        "    }\n",
        "    try:\n",
        "        response = requests.get(API_URL, params=params)\n",
        "        if response.status_code == 200:\n",
        "            results = response.json().get(\"results\", [])\n",
        "            df = pd.json_normalize(results)\n",
        "            if not df.empty:\n",
        "                df[\"checked_at\"] = datetime.now(UTC).isoformat()\n",
        "                df[\"search_genre\"] = term\n",
        "                return df\n",
        "    except Exception as e:\n",
        "        print(f\"❌ Error con '{term}': {e}\")\n",
        "    return pd.DataFrame()"
      ]
    },
    {
      "cell_type": "code",
      "execution_count": 4,
      "metadata": {},
      "outputs": [
        {
          "name": "stdout",
          "output_type": "stream",
          "text": [
            "🎵 Buscando por género: 'pop'\n",
            "⚠️ Sin resultados para 'pop'\n",
            "🎵 Buscando por género: 'rock'\n",
            "⚠️ Sin resultados para 'rock'\n",
            "🎵 Buscando por género: 'jazz'\n",
            "⚠️ Sin resultados para 'jazz'\n",
            "🎵 Buscando por género: 'classical'\n",
            "⚠️ Sin resultados para 'classical'\n",
            "🎵 Buscando por género: 'rap'\n",
            "⚠️ Sin resultados para 'rap'\n"
          ]
        }
      ],
      "source": [
        "# Ejecutar scraping\n",
        "usados = cargar_generos_usados()\n",
        "pendientes = [g for g in GENERO_TERMS if g not in usados][:GENEROS_POR_DIA]\n",
        "\n",
        "dfs = []\n",
        "\n",
        "for genero in pendientes:\n",
        "    print(f\"🎵 Buscando por género: '{genero}'\")\n",
        "    df = buscar_itunes(genero)\n",
        "    if not df.empty:\n",
        "        dfs.append(df)\n",
        "        guardar_genero_usado(genero)\n",
        "        print(f\"✅ {len(df)} resultados para '{genero}'\")\n",
        "    else:\n",
        "        print(f\"⚠️ Sin resultados para '{genero}'\")\n",
        "    time.sleep(1)\n",
        "\n",
        "if dfs:\n",
        "    df_total = pd.concat(dfs, ignore_index=True)\n",
        "    hoy = datetime.now(UTC).strftime(\"%Y-%m-%d\")\n",
        "    archivo_salida = f\"{CARPETA_DATOS}/itunes_genero_{hoy}.csv\"\n",
        "    df_total.to_csv(archivo_salida, index=False)\n",
        "    print(f\"📦 Guardados {len(df_total)} registros en '{archivo_salida}'\")"
      ]
    }
  ],
  "metadata": {
    "kernelspec": {
      "display_name": "venv",
      "language": "python",
      "name": "python3"
    },
    "language_info": {
      "codemirror_mode": {
        "name": "ipython",
        "version": 3
      },
      "file_extension": ".py",
      "mimetype": "text/x-python",
      "name": "python",
      "nbconvert_exporter": "python",
      "pygments_lexer": "ipython3",
      "version": "3.12.4"
    }
  },
  "nbformat": 4,
  "nbformat_minor": 5
}
